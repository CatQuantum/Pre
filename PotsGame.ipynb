{
 "cells": [
  {
   "cell_type": "code",
   "execution_count": 1,
   "metadata": {},
   "outputs": [
    {
     "name": "stdout",
     "output_type": "stream",
     "text": [
      "9\n"
     ]
    }
   ],
   "source": [
    "def max_coins(pots):\n",
    "    n = len(pots)\n",
    "    # 创建一个 n x n 的二维列表，初始化为 0\n",
    "    dp = [[0] * n for _ in range(n)]\n",
    "    \n",
    "    # 处理只有一个金罐的情况\n",
    "    for i in range(n):\n",
    "        dp[i][i] = pots[i]\n",
    "    \n",
    "    # 处理有两个金罐的情况\n",
    "    for i in range(n - 1):\n",
    "        dp[i][i + 1] = max(pots[i], pots[i + 1])\n",
    "    \n",
    "    # 使用动态规划填充 dp 表\n",
    "    for length in range(3, n + 1):  # 从长度为 3 到 n\n",
    "        for i in range(n - length + 1):\n",
    "            j = i + length - 1\n",
    "            # 计算两种情况，选择最优解\n",
    "            pick_first = pots[i] + min(dp[i + 2][j] if i + 2 <= j else 0,\n",
    "                                       dp[i + 1][j - 1] if i + 1 <= j - 1 else 0)\n",
    "            pick_last = pots[j] + min(dp[i + 1][j - 1] if i + 1 <= j - 1 else 0,\n",
    "                                      dp[i][j - 2] if i <= j - 2 else 0)\n",
    "            dp[i][j] = max(pick_first, pick_last)\n",
    "    \n",
    "    # 最终结果存储在 dp[0][n-1] 中\n",
    "    return dp[0][n - 1]\n",
    "\n",
    "# 示例\n",
    "pots = [4, 6, 2, 3]\n",
    "print(max_coins(pots))  # 输出应为玩家 A 可以获得的最大硬币数\n"
   ]
  },
  {
   "cell_type": "code",
   "execution_count": 6,
   "metadata": {},
   "outputs": [
    {
     "name": "stdout",
     "output_type": "stream",
     "text": [
      "Maximum coins: 9\n",
      "Choices:\n",
      "Pot 4 with 3 coins: take rightmost pot\n",
      "Pot 3 with 2 coins: take rightmost pot\n",
      "Pot 2 with 6 coins: take rightmost pot\n",
      "Pot 1 with 4 coins: take only pot\n"
     ]
    }
   ],
   "source": [
    "def max_coins_with_tracking(pots):\n",
    "    n = len(pots)\n",
    "    dp = [[0] * n for _ in range(n)]\n",
    "    # 用于记录每一步的选择路径\n",
    "    pick = [[None] * n for _ in range(n)]\n",
    "    \n",
    "    for i in range(n):\n",
    "        dp[i][i] = pots[i]\n",
    "        pick[i][i] = (i, 'take only pot')\n",
    "\n",
    "    for i in range(n - 1):\n",
    "        if pots[i] > pots[i + 1]:\n",
    "            pick[i][i + 1] = (i, 'take leftmost pot')\n",
    "        else:\n",
    "            pick[i][i + 1] = (i + 1, 'take rightmost pot')\n",
    "        dp[i][i + 1] = max(pots[i], pots[i + 1])\n",
    "    \n",
    "    for length in range(3, n + 1):\n",
    "        for i in range(n - length + 1):\n",
    "            j = i + length - 1\n",
    "            \n",
    "            left_option = min(dp[i + 2][j] if i + 2 <= j else 0, dp[i + 1][j - 1] if i + 1 <= j - 1 else 0)\n",
    "            right_option = min(dp[i + 1][j - 1] if i + 1 <= j - 1 else 0, dp[i][j - 2] if i <= j - 2 else 0)\n",
    "            pick_first = pots[i] + left_option\n",
    "            pick_last = pots[j] + right_option\n",
    "            \n",
    "            if pick_first > pick_last:\n",
    "                dp[i][j] = pick_first\n",
    "                pick[i][j] = (i, 'take leftmost pot')\n",
    "            else:\n",
    "                dp[i][j] = pick_last\n",
    "                pick[i][j] = (j, 'take rightmost pot')\n",
    "\n",
    "    # 回溯选择路径\n",
    "    choices = []\n",
    "    i, j = 0, n - 1\n",
    "    while i <= j:\n",
    "        choice_index, choice_description = pick[i][j]\n",
    "        choices.append((choice_index, choice_description))\n",
    "        if choice_description == 'take leftmost pot':\n",
    "            i += 1\n",
    "        else:\n",
    "            j -= 1\n",
    "\n",
    "    return dp[0][n - 1], choices,pick\n",
    "\n",
    "# 示例\n",
    "pots = [4, 6, 2, 3]\n",
    "max_coins, choices ,pick= max_coins_with_tracking(pots)\n",
    "print(\"Maximum coins:\", max_coins)\n",
    "print(\"Choices:\")\n",
    "for index, choice in choices:\n",
    "    print(f\"Pot {index + 1} with {pots[index]} coins: {choice}\")\n"
   ]
  },
  {
   "cell_type": "code",
   "execution_count": 7,
   "metadata": {},
   "outputs": [
    {
     "data": {
      "text/plain": [
       "[[(0, 'take only pot'),\n",
       "  (1, 'take rightmost pot'),\n",
       "  (2, 'take rightmost pot'),\n",
       "  (3, 'take rightmost pot')],\n",
       " [None,\n",
       "  (1, 'take only pot'),\n",
       "  (1, 'take leftmost pot'),\n",
       "  (1, 'take leftmost pot')],\n",
       " [None, None, (2, 'take only pot'), (3, 'take rightmost pot')],\n",
       " [None, None, None, (3, 'take only pot')]]"
      ]
     },
     "execution_count": 7,
     "metadata": {},
     "output_type": "execute_result"
    }
   ],
   "source": [
    "pick"
   ]
  }
 ],
 "metadata": {
  "kernelspec": {
   "display_name": "Python 3",
   "language": "python",
   "name": "python3"
  },
  "language_info": {
   "codemirror_mode": {
    "name": "ipython",
    "version": 3
   },
   "file_extension": ".py",
   "mimetype": "text/x-python",
   "name": "python",
   "nbconvert_exporter": "python",
   "pygments_lexer": "ipython3",
   "version": "3.12.1"
  }
 },
 "nbformat": 4,
 "nbformat_minor": 2
}
